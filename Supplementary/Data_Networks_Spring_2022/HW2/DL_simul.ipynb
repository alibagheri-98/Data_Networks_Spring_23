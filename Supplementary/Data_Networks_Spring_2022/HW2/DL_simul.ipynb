{
 "cells": [
  {
   "cell_type": "code",
   "execution_count": 1,
   "metadata": {},
   "outputs": [],
   "source": [
    "from Layers import Node, Source, Sink, PHY, Channel\n",
    "from DataLink import *\n",
    "from simulator import Simulator, Event_queues\n",
    "from CRC import CRC"
   ]
  },
  {
   "cell_type": "code",
   "execution_count": 2,
   "metadata": {},
   "outputs": [],
   "source": [
    "# Auto-reload extension (just for dev phase)\\n\",\n",
    "%load_ext autoreload\n",
    "%autoreload 2"
   ]
  },
  {
   "cell_type": "markdown",
   "metadata": {},
   "source": [
    "# Create simulator"
   ]
  },
  {
   "cell_type": "code",
   "execution_count": 43,
   "metadata": {},
   "outputs": [],
   "source": [
    "p = 1e-4\n",
    "R_T = 1e6\n",
    "D_p = 1e-3\n",
    "\n",
    "divisor = 0xB\n",
    "checker = CRC(divisor)\n",
    "\n",
    "timeout = (2*D_p + 9/R_T)*1.01\n",
    "packet_size = 96"
   ]
  },
  {
   "cell_type": "code",
   "execution_count": 66,
   "metadata": {},
   "outputs": [],
   "source": [
    "simulator = Simulator()\n",
    "# Nodes\n",
    "node_tx = Node(simulator)\n",
    "node_rx = Node(simulator)\n",
    "# Channel: 2 same channel\n",
    "## create\n",
    "chann_tx = Channel(p, R_T, D_p)\n",
    "chann_rx = Channel(p, R_T, D_p)\n",
    "## bind to simulator\n",
    "chann_tx.bind_sim(simulator)\n",
    "chann_rx.bind_sim(simulator)\n",
    "# Add channels, layers to nodes\n",
    "## Tx\n",
    "node_tx.bind_channels(chann_tx, chann_rx)\n",
    "node_tx.bind_element('L1', PHY(checker=checker))\n",
    "node_tx.bind_element('L2', Stop_Wait_Tx(timeout))\n",
    "node_tx.bind_element('L3', Source(packet_size))\n",
    "## Rx\n",
    "node_rx.bind_channels(chann_rx, chann_tx)\n",
    "node_rx.bind_element('L1', PHY(checker=checker))\n",
    "node_rx.bind_element('L2', Stop_Wait_Rx())\n",
    "node_rx.bind_element('L3', Sink())"
   ]
  },
  {
   "cell_type": "markdown",
   "metadata": {},
   "source": [
    "## Add initializing event\n",
    "In this excersice we add `start transmit`."
   ]
  },
  {
   "cell_type": "code",
   "execution_count": 67,
   "metadata": {},
   "outputs": [
    {
     "data": {
      "text/plain": [
       "[(0, 'DL start', None)]"
      ]
     },
     "execution_count": 67,
     "metadata": {},
     "output_type": "execute_result"
    }
   ],
   "source": [
    "node_tx.event_queue.clear_event()\n",
    "\n",
    "event_init = (0, 'DL start', None)\n",
    "node_tx.add_event(event_init)\n",
    "\n",
    "node_tx.event_queue"
   ]
  },
  {
   "cell_type": "markdown",
   "metadata": {},
   "source": [
    "# Run simulator"
   ]
  },
  {
   "cell_type": "code",
   "execution_count": 68,
   "metadata": {},
   "outputs": [],
   "source": [
    "t_end = 10\n",
    "simulator.run(t_end)"
   ]
  },
  {
   "cell_type": "code",
   "execution_count": 69,
   "metadata": {},
   "outputs": [
    {
     "name": "stdout",
     "output_type": "stream",
     "text": [
      "practical:\t0.04685\n",
      "theory ideal:\t0.04761904761904762\n",
      "theory noisy:\t0.047142857142857146\n"
     ]
    }
   ],
   "source": [
    "D_T = (packet_size+4)/R_T\n",
    "utilization = (node_rx.L3.counter * D_T) / t_end\n",
    "print(f'practical:\\t{utilization}')\n",
    "print(f'theory ideal:\\t{D_T/(D_T + 2 * D_p)}')\n",
    "print(f'theory noisy:\\t{(D_T/(D_T + 2 * D_p) * (1-p*(packet_size+4)))}')"
   ]
  },
  {
   "cell_type": "code",
   "execution_count": null,
   "metadata": {},
   "outputs": [],
   "source": []
  }
 ],
 "metadata": {
  "interpreter": {
   "hash": "ed225720166559e7176d3793db16a2fd8d295f725007103b21ac3099d2a89ee8"
  },
  "kernelspec": {
   "display_name": "Python 3.7.4 ('base')",
   "language": "python",
   "name": "python3"
  },
  "language_info": {
   "codemirror_mode": {
    "name": "ipython",
    "version": 3
   },
   "file_extension": ".py",
   "mimetype": "text/x-python",
   "name": "python",
   "nbconvert_exporter": "python",
   "pygments_lexer": "ipython3",
   "version": "3.7.4"
  },
  "orig_nbformat": 4
 },
 "nbformat": 4,
 "nbformat_minor": 2
}
